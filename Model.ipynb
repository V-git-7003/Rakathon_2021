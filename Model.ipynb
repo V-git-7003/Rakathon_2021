{
 "cells": [
  {
   "cell_type": "markdown",
   "metadata": {},
   "source": [
    "# Model\n",
    "1. In this notebook all the csv files of the banks are imported and concatenated.\n",
    "2. This concatenated data is mixed to avoid training bank news serially => Better training\n",
    "3. Finally, the model trained using Naive Bayes classifier and linear regression, which is saved in a pickle format, which is used by the API.\n",
    "4. We are Naive Bayes for our trial as it provides better results\n",
    "4. There are only two classes to this model:\n",
    "    a) 0 for negative news => Negative News\n",
    "    b) 1 for positve news => Positive News\n",
    "      "
   ]
  },
  {
   "cell_type": "code",
   "execution_count": 1,
   "metadata": {},
   "outputs": [],
   "source": [
    "import pandas as pd\n",
    "import numpy as np\n",
    "import seaborn as sns\n",
    "import string\n",
    "from nltk.corpus import stopwords\n",
    "import pickle\n",
    "from sklearn.feature_extraction.text import CountVectorizer\n",
    "from sklearn.model_selection import train_test_split\n",
    "from sklearn.feature_extraction.text import TfidfTransformer\n",
    "from sklearn.naive_bayes import MultinomialNB\n",
    "from sklearn.pipeline import Pipeline\n",
    "from sklearn.metrics import classification_report\n",
    "from sklearn.linear_model import LogisticRegression\n",
    "from sklearn.preprocessing import StandardScaler"
   ]
  },
  {
   "cell_type": "code",
   "execution_count": 2,
   "metadata": {
    "scrolled": false
   },
   "outputs": [],
   "source": [
    "def data():\n",
    "    \"\"\"\n",
    "    The Data() function:    \n",
    "    1. Combines and shuffles the data of all the banks.\n",
    "    2. Converts the label to an integer.\n",
    "    3. Returns the combined data with labels\n",
    "    \"\"\"\n",
    "    \n",
    "    axis_df = pd.read_csv('Axis.csv')\n",
    "    hdfc_df = pd.read_csv('HDFC.csv')\n",
    "    sbi_df = pd.read_csv('State.csv')\n",
    "    ind_df = pd.read_csv('IndusInd.csv')\n",
    "    icici_df = pd.read_csv('ICICI.csv')\n",
    "\n",
    "    df = [axis_df, hdfc_df,sbi_df,ind_df,icici_df]\n",
    "    result = pd.concat(df)\n",
    "    \n",
    "    result = result.sample(frac=1).reset_index(drop=True)\n",
    "    result['label']= result['label'].astype('int')\n",
    "   \n",
    "    return result"
   ]
  },
  {
   "cell_type": "code",
   "execution_count": 3,
   "metadata": {},
   "outputs": [
    {
     "name": "stdout",
     "output_type": "stream",
     "text": [
      "      label                                               news\n",
      "0         0  State-owned banks India barred employees posti...\n",
      "1         1  ICICIBC realised ~Rs 31bn 1QFY21 far, stake sa...\n",
      "2         1  Country’s largest private lender witnessed imp...\n",
      "3         1  Ashwani Gujral ashwanigujral.com told CNBC-TV1...\n",
      "4         0  Country's largest lender (SBI) considered patr...\n",
      "...     ...                                                ...\n",
      "1896      0  HDFC Bank Ltd informed BSE subject approval Re...\n",
      "1897      1  HDFC Bank Ltd informed BSE Bank August 30, 201...\n",
      "1898      0  Asset quality concerns continue haunt Indian b...\n",
      "1899      0  , India's fourth-largest private sector lender...\n",
      "1900      0  , Mastercard SAP Concur joined hands spending ...\n",
      "\n",
      "[1901 rows x 2 columns]\n"
     ]
    }
   ],
   "source": [
    "print(data())"
   ]
  },
  {
   "cell_type": "code",
   "execution_count": 4,
   "metadata": {
    "scrolled": true
   },
   "outputs": [],
   "source": [
    "#creating a text cleaning function to pass into countvectorizer\n",
    "def text_cleaner(news):\n",
    "    \"\"\"\n",
    "    The function text_cleaner:\n",
    "    1. Removes punctuations\n",
    "    2. Removes Stopwords\n",
    "    \"\"\"\n",
    "     # Check characters to see if they are in punctuation\n",
    "    nopunc = [char for char in news if char not in string.punctuation]\n",
    "      \n",
    "    \n",
    "    \n",
    "    # Join the characters again to form the string.\n",
    "    nopunc = ''.join(nopunc)\n",
    "  \n",
    "\n",
    "    \n",
    "    # Now just remove any stopwords\n",
    "    return [word for word in nopunc.split() if word.lower() not in stopwords.words('english')]\n",
    "\n"
   ]
  },
  {
   "cell_type": "code",
   "execution_count": 5,
   "metadata": {
    "scrolled": false
   },
   "outputs": [],
   "source": [
    "def data_info(result):\n",
    "    \n",
    "    # Vectorization of words, Might take awhile...\n",
    "    bow_transformer = CountVectorizer(analyzer=text_cleaner).fit(result['news'])\n",
    "\n",
    "    # Print total number of vocab words\n",
    "    print('Total number of unique words:',len(bow_transformer.vocabulary_))\n",
    "\n",
    "    #Tokenization or vectorization of all the generated news\n",
    "    news_bow = bow_transformer.transform(result['news'])\n",
    "\n",
    "    print('Shape of Sparse Matrix: ', news_bow.shape)\n",
    "    print('Amount of Non-Zero occurences: ', news_bow.nnz)\n",
    "\n",
    "    #calculating sparsity\n",
    "    sparsity = (100.0 * news_bow.nnz / (news_bow.shape[0] * news_bow.shape[1]))\n",
    "    print('sparsity: {}'.format(sparsity))\n",
    "    \n",
    "    \n",
    "    print(result.groupby(by='label').count())\n",
    "    print('percentage positive news',(870/len(result))*100 )\n",
    "    print('percentage negative news',(1031/len(result))*100)"
   ]
  },
  {
   "cell_type": "code",
   "execution_count": 6,
   "metadata": {},
   "outputs": [
    {
     "name": "stdout",
     "output_type": "stream",
     "text": [
      "Total number of unique words: 44893\n",
      "Shape of Sparse Matrix:  (1901, 44893)\n",
      "Amount of Non-Zero occurences:  361680\n",
      "sparsity: 0.42380272887570775\n",
      "       news\n",
      "label      \n",
      "0      1031\n",
      "1       870\n",
      "percentage positive news 45.765386638611254\n",
      "percentage negative news 54.23461336138874\n"
     ]
    }
   ],
   "source": [
    "data_info(data())"
   ]
  },
  {
   "cell_type": "code",
   "execution_count": 7,
   "metadata": {
    "scrolled": true
   },
   "outputs": [],
   "source": [
    "#df = data()\n",
    "\n",
    "#print(df)\n",
    "\n",
    "\n",
    "#df['length_of_news']=df['news'].apply(len)\n",
    "#print(df.head())\n",
    "#df.hist(column='length_of_news', by='label' )\n",
    "#df.countplot\n",
    "#df['news'][1]"
   ]
  },
  {
   "cell_type": "code",
   "execution_count": 8,
   "metadata": {
    "scrolled": false
   },
   "outputs": [],
   "source": [
    "# creating train and test data:\n",
    "def model_training_with_testdata(result,model_name='nb'):\n",
    "    X_train, X_test, y_train, y_test = train_test_split(result['news'], result['label'], test_size=0.3)\n",
    "    print('length of training data',len(X_train),'and length of the test data',len(X_test),'and total data',len(X_train) + len(X_test))\n",
    "    \n",
    "    if model_name.lower()=='nb':\n",
    "        pipe = Pipeline([\n",
    "        ('bow', CountVectorizer(analyzer=text_cleaner)),  # strings to token integer counts\n",
    "        ('classifier', MultinomialNB()),])  # train on TF-IDF vectors w/ Naive Bayes classifier\n",
    "        pipe.fit(X_train,y_train)\n",
    "        predictions = pipe.predict(X_test)\n",
    "        print('predictions',predictions[0:5])\n",
    "        print('labels',y_test[0:5])\n",
    "        print(classification_report(predictions,y_test)) # randomly selected data lacks positive news! This is NO\n",
    "    \n",
    "    elif model_name.lower()=='lr':\n",
    "        pipe=Pipeline([('bow', CountVectorizer(analyzer=text_cleaner)),  # strings to token integer counts\n",
    "       # ('StandardScaler',StandardScaler()),  # integer counts to weighted TF-IDF scores\n",
    "        ('classifier', LogisticRegression()),  # train on TF-IDF vectors w/ Naive Bayes classifier\n",
    "        ])\n",
    "   \n",
    "        pipe.fit(X_train, y_train)  # apply scaling on training data\n",
    "        print(\"Accuracy:\", pipe.score(X_test, y_test))\n",
    "        predictions = pipe.predict(X_test)\n",
    "        print(classification_report(predictions,y_test))\n",
    "   "
   ]
  },
  {
   "cell_type": "code",
   "execution_count": 9,
   "metadata": {
    "scrolled": false
   },
   "outputs": [
    {
     "name": "stdout",
     "output_type": "stream",
     "text": [
      "length of training data 1330 and length of the test data 571 and total data 1901\n",
      "predictions [0 1 1 0 0]\n",
      "labels 1121    0\n",
      "1413    0\n",
      "669     0\n",
      "369     0\n",
      "68      0\n",
      "Name: label, dtype: int64\n",
      "              precision    recall  f1-score   support\n",
      "\n",
      "           0       0.67      0.62      0.64       341\n",
      "           1       0.49      0.54      0.51       230\n",
      "\n",
      "    accuracy                           0.59       571\n",
      "   macro avg       0.58      0.58      0.58       571\n",
      "weighted avg       0.59      0.59      0.59       571\n",
      "\n"
     ]
    }
   ],
   "source": [
    "model_training_with_testdata(data())   "
   ]
  },
  {
   "cell_type": "code",
   "execution_count": 10,
   "metadata": {},
   "outputs": [
    {
     "name": "stdout",
     "output_type": "stream",
     "text": [
      "length of training data 1330 and length of the test data 571 and total data 1901\n"
     ]
    },
    {
     "name": "stderr",
     "output_type": "stream",
     "text": [
      "/home/vasanth/anaconda3/envs/DS/lib/python3.6/site-packages/sklearn/linear_model/_logistic.py:764: ConvergenceWarning: lbfgs failed to converge (status=1):\n",
      "STOP: TOTAL NO. of ITERATIONS REACHED LIMIT.\n",
      "\n",
      "Increase the number of iterations (max_iter) or scale the data as shown in:\n",
      "    https://scikit-learn.org/stable/modules/preprocessing.html\n",
      "Please also refer to the documentation for alternative solver options:\n",
      "    https://scikit-learn.org/stable/modules/linear_model.html#logistic-regression\n",
      "  extra_warning_msg=_LOGISTIC_SOLVER_CONVERGENCE_MSG)\n"
     ]
    },
    {
     "name": "stdout",
     "output_type": "stream",
     "text": [
      "Accuracy: 0.5569176882661997\n",
      "              precision    recall  f1-score   support\n",
      "\n",
      "           0       0.62      0.60      0.61       331\n",
      "           1       0.47      0.50      0.49       240\n",
      "\n",
      "    accuracy                           0.56       571\n",
      "   macro avg       0.55      0.55      0.55       571\n",
      "weighted avg       0.56      0.56      0.56       571\n",
      "\n"
     ]
    }
   ],
   "source": [
    "model_training_with_testdata(data(),model_name='lr')"
   ]
  },
  {
   "cell_type": "code",
   "execution_count": 14,
   "metadata": {},
   "outputs": [],
   "source": [
    "def model_training_fulldata(result,model_name='nb'):\n",
    "    if model_name.lower()=='nb':\n",
    "        pipe = Pipeline([\n",
    "        ('bow', CountVectorizer(analyzer=text_cleaner)),  # strings to token integer counts\n",
    "        ('classifier', MultinomialNB()),])  # train on TF-IDF vectors w/ Naive Bayes classifier\n",
    "        pipe.fit(result['news'],result['label'])\n",
    "        filename = 'model_nb.sav'\n",
    "        pickle.dump(pipe, open(filename, 'wb'))\n",
    "    \n",
    "        predictions = pipe.predict(result['news'])\n",
    "        print('predictions',predictions[0:5])\n",
    "        \n",
    "        print(classification_report(predictions,result['label'])) # randomly selected data lacks positive news! This is NO\n",
    "    \n",
    "    elif model_name.lower()=='lr':\n",
    "        pipe=Pipeline([('bow', CountVectorizer(analyzer=text_cleaner)),  # strings to token integer counts\n",
    "       # ('StandardScaler',StandardScaler()), \n",
    "        ('classifier', LogisticRegression()),  # train on TF-IDF vectors w/ Naive Bayes classifier\n",
    "        ])\n",
    "   \n",
    "        pipe.fit(result['news'], result['label'])  # apply scaling on training data\n",
    "        filename = 'model_lr.sav'\n",
    "        pickle.dump(pipe, open(filename, 'wb'))\n",
    "        print(\"Accuracy:\", pipe.score(result['news'], result['label']))\n",
    "        predictions = pipe.predict(result['news'])\n",
    "        print(classification_report(predictions,result['label']))\n",
    "   \n",
    "    "
   ]
  },
  {
   "cell_type": "code",
   "execution_count": 12,
   "metadata": {
    "scrolled": true
   },
   "outputs": [
    {
     "name": "stdout",
     "output_type": "stream",
     "text": [
      "predictions [1 1 0 0 0]\n",
      "              precision    recall  f1-score   support\n",
      "\n",
      "           0       0.98      0.96      0.97      1053\n",
      "           1       0.95      0.98      0.96       848\n",
      "\n",
      "    accuracy                           0.97      1901\n",
      "   macro avg       0.97      0.97      0.97      1901\n",
      "weighted avg       0.97      0.97      0.97      1901\n",
      "\n"
     ]
    }
   ],
   "source": [
    "model_training_fulldata(data()) # this result is only to check if the function is working or not"
   ]
  },
  {
   "cell_type": "code",
   "execution_count": 15,
   "metadata": {},
   "outputs": [
    {
     "name": "stderr",
     "output_type": "stream",
     "text": [
      "/home/vasanth/anaconda3/envs/DS/lib/python3.6/site-packages/sklearn/linear_model/_logistic.py:764: ConvergenceWarning: lbfgs failed to converge (status=1):\n",
      "STOP: TOTAL NO. of ITERATIONS REACHED LIMIT.\n",
      "\n",
      "Increase the number of iterations (max_iter) or scale the data as shown in:\n",
      "    https://scikit-learn.org/stable/modules/preprocessing.html\n",
      "Please also refer to the documentation for alternative solver options:\n",
      "    https://scikit-learn.org/stable/modules/linear_model.html#logistic-regression\n",
      "  extra_warning_msg=_LOGISTIC_SOLVER_CONVERGENCE_MSG)\n"
     ]
    },
    {
     "name": "stdout",
     "output_type": "stream",
     "text": [
      "Accuracy: 0.9984218832193582\n",
      "              precision    recall  f1-score   support\n",
      "\n",
      "           0       1.00      1.00      1.00      1034\n",
      "           1       1.00      1.00      1.00       867\n",
      "\n",
      "    accuracy                           1.00      1901\n",
      "   macro avg       1.00      1.00      1.00      1901\n",
      "weighted avg       1.00      1.00      1.00      1901\n",
      "\n"
     ]
    }
   ],
   "source": [
    "model_training_fulldata(data(),model_name='lr') # This is only to to check if the function is working"
   ]
  }
 ],
 "metadata": {
  "kernelspec": {
   "display_name": "Python 3",
   "language": "python",
   "name": "python3"
  },
  "language_info": {
   "codemirror_mode": {
    "name": "ipython",
    "version": 3
   },
   "file_extension": ".py",
   "mimetype": "text/x-python",
   "name": "python",
   "nbconvert_exporter": "python",
   "pygments_lexer": "ipython3",
   "version": "3.6.11"
  }
 },
 "nbformat": 4,
 "nbformat_minor": 4
}
