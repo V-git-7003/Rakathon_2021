{
 "cells": [
  {
   "cell_type": "code",
   "execution_count": 207,
   "metadata": {},
   "outputs": [],
   "source": [
    "import pandas as pd\n",
    "import numpy as np\n",
    "import string\n",
    "from nltk.corpus import stopwords\n",
    "import pickle"
   ]
  },
  {
   "cell_type": "code",
   "execution_count": 193,
   "metadata": {
    "scrolled": true
   },
   "outputs": [
    {
     "name": "stdout",
     "output_type": "stream",
     "text": [
      "axis length 290 hdfc length 407 sbi length 598 IndusInd 197 ICICI length 409\n",
      "1901\n"
     ]
    },
    {
     "data": {
      "text/html": [
       "<div>\n",
       "<style scoped>\n",
       "    .dataframe tbody tr th:only-of-type {\n",
       "        vertical-align: middle;\n",
       "    }\n",
       "\n",
       "    .dataframe tbody tr th {\n",
       "        vertical-align: top;\n",
       "    }\n",
       "\n",
       "    .dataframe thead th {\n",
       "        text-align: right;\n",
       "    }\n",
       "</style>\n",
       "<table border=\"1\" class=\"dataframe\">\n",
       "  <thead>\n",
       "    <tr style=\"text-align: right;\">\n",
       "      <th></th>\n",
       "      <th>label</th>\n",
       "      <th>news</th>\n",
       "    </tr>\n",
       "  </thead>\n",
       "  <tbody>\n",
       "    <tr>\n",
       "      <th>0</th>\n",
       "      <td>1.0</td>\n",
       "      <td>retain Hold Axis Bank TP revised lower Rs520. ...</td>\n",
       "    </tr>\n",
       "    <tr>\n",
       "      <th>1</th>\n",
       "      <td>1.0</td>\n",
       "      <td>Rajat Bose rajatkbose.com told CNBC-TV18, \"I o...</td>\n",
       "    </tr>\n",
       "    <tr>\n",
       "      <th>2</th>\n",
       "      <td>1.0</td>\n",
       "      <td>India's third largest private sector bank toda...</td>\n",
       "    </tr>\n",
       "    <tr>\n",
       "      <th>3</th>\n",
       "      <td>0.0</td>\n",
       "      <td>Axis bank's earnings Rs7.0bn (PLe: Rs9.9bn) lo...</td>\n",
       "    </tr>\n",
       "    <tr>\n",
       "      <th>4</th>\n",
       "      <td>1.0</td>\n",
       "      <td>Nifty closed 9,108 largely remained sideways w...</td>\n",
       "    </tr>\n",
       "  </tbody>\n",
       "</table>\n",
       "</div>"
      ],
      "text/plain": [
       "   label                                               news\n",
       "0    1.0  retain Hold Axis Bank TP revised lower Rs520. ...\n",
       "1    1.0  Rajat Bose rajatkbose.com told CNBC-TV18, \"I o...\n",
       "2    1.0  India's third largest private sector bank toda...\n",
       "3    0.0  Axis bank's earnings Rs7.0bn (PLe: Rs9.9bn) lo...\n",
       "4    1.0  Nifty closed 9,108 largely remained sideways w..."
      ]
     },
     "execution_count": 193,
     "metadata": {},
     "output_type": "execute_result"
    }
   ],
   "source": [
    "axis_df = pd.read_csv('Axis.csv')\n",
    "hdfc_df = pd.read_csv('HDFC.csv')\n",
    "sbi_df = pd.read_csv('State.csv')\n",
    "ind_df = pd.read_csv('IndusInd.csv')\n",
    "icici_df = pd.read_csv('ICICI.csv')\n",
    "\n",
    "print('axis length',len(axis_df),'hdfc length',len(hdfc_df),'sbi length',len(sbi_df),'IndusInd',len(ind_df),'ICICI length',len(icici_df))\n",
    "df = [axis_df, hdfc_df,sbi_df,ind_df,icici_df]\n",
    "result = pd.concat(df)\n",
    "print(len(result))\n",
    "result.head()"
   ]
  },
  {
   "cell_type": "code",
   "execution_count": 194,
   "metadata": {},
   "outputs": [],
   "source": [
    "def integer(x):\n",
    "    return int(x)"
   ]
  },
  {
   "cell_type": "code",
   "execution_count": 195,
   "metadata": {
    "scrolled": true
   },
   "outputs": [
    {
     "name": "stdout",
     "output_type": "stream",
     "text": [
      "   label                                               news\n",
      "0      1  Vijay Chopra enochventures.com told CNBC-TV18,...\n",
      "1      0  bank reported steady asset quality sequential ...\n",
      "2      0  Monday said expand retail network adding 450 n...\n",
      "3      1  Mitessh Thakkar mitesshthakkar.com told CNBC-T...\n",
      "4      1  Hyundai Motor India Monday signed agreement pr...\n"
     ]
    }
   ],
   "source": [
    "result = result.sample(frac=1).reset_index(drop=True)\n",
    "result['label']=result['label'].apply(integer)\n",
    "print(result.head())"
   ]
  },
  {
   "cell_type": "code",
   "execution_count": 196,
   "metadata": {
    "scrolled": true
   },
   "outputs": [
    {
     "name": "stdout",
     "output_type": "stream",
     "text": [
      "       news\n",
      "label      \n",
      "0      1031\n",
      "1       870\n",
      "percentage positive news 45.765386638611254\n",
      "percentage negative news 54.23461336138874\n"
     ]
    }
   ],
   "source": [
    "# grouping by label\n",
    "print(result.groupby(by='label').count())\n",
    "print('percentage positive news',(870/len(result))*100 )\n",
    "print('percentage negative news',(1031/len(result))*100)"
   ]
  },
  {
   "cell_type": "code",
   "execution_count": 197,
   "metadata": {},
   "outputs": [
    {
     "data": {
      "text/plain": [
       "'Vijay Chopra enochventures.com told CNBC-TV18, \"With longer term perspective best placed bank (SBI), doubt it. might correct bit, also reality. However, somebody holds longer term perspective, present turn, stock might go Rs 310 probably might see kind correction bought lower prices.\" Rajat Bose rajatkbose.com told CNBC-TV18, \"In (SBI) Rs 305-325 strong resistance zone. manages get past that, definitely upside likely. look SBI chart look chart, go surrender almost 100 percent gains, sometimes even more. kind volatility may great thing even long term investor. So, perspective, would probably bought selling SBI.\"At 15:16 hrs State Bank India quoting Rs 280.35, Rs 2.55, 0.90 percent BSE.'"
      ]
     },
     "execution_count": 197,
     "metadata": {},
     "output_type": "execute_result"
    }
   ],
   "source": [
    "len(result.index)\n",
    "result['news'].iloc[0]"
   ]
  },
  {
   "cell_type": "code",
   "execution_count": 201,
   "metadata": {
    "scrolled": true
   },
   "outputs": [
    {
     "name": "stdout",
     "output_type": "stream",
     "text": [
      "44893\n",
      "Shape of Sparse Matrix:  (1901, 44893)\n",
      "Amount of Non-Zero occurences:  361680\n",
      "sparsity: 0.42380272887570775\n"
     ]
    }
   ],
   "source": [
    "#creating a text cleaning function to pass into countvectorizer\n",
    "def text_remove_punctuations(news):\n",
    "    \"\"\"\n",
    "    The function text_remove_punctuation:\n",
    "    1. Removes remaining commas\n",
    "    \"\"\"\n",
    "     # Check characters to see if they are in punctuation\n",
    "    nopunc = [char for char in news if char not in string.punctuation]\n",
    "      \n",
    "    \n",
    "    \n",
    "    # Join the characters again to form the string.\n",
    "    nopunc = ''.join(nopunc)\n",
    "  \n",
    "\n",
    "    \n",
    "    # Now just remove any stopwords\n",
    "    return [word for word in nopunc.split() if word.lower() not in stopwords.words('english')]\n",
    "\n",
    "\n",
    "from sklearn.feature_extraction.text import CountVectorizer\n",
    "# Vectorization of words, Might take awhile...\n",
    "bow_transformer = CountVectorizer(analyzer=text_remove_punctuations).fit(result['news'])\n",
    "\n",
    "# Print total number of vocab words\n",
    "print(len(bow_transformer.vocabulary_))\n",
    "\n",
    "#Tokenization or vectorization of all the generated news\n",
    "news_bow = bow_transformer.transform(result['news'])\n",
    "\n",
    "print('Shape of Sparse Matrix: ', news_bow.shape)\n",
    "print('Amount of Non-Zero occurences: ', news_bow.nnz)\n",
    "\n",
    "#calculating sparsity\n",
    "sparsity = (100.0 * news_bow.nnz / (news_bow.shape[0] * news_bow.shape[1]))\n",
    "print('sparsity: {}'.format(sparsity))"
   ]
  },
  {
   "cell_type": "code",
   "execution_count": 202,
   "metadata": {},
   "outputs": [
    {
     "data": {
      "text/plain": [
       "'yoy'"
      ]
     },
     "execution_count": 202,
     "metadata": {},
     "output_type": "execute_result"
    }
   ],
   "source": [
    "# used for checking the vectorization\n",
    "news_0 = result['news'][0]\n",
    "trans_words = bow_transformer.transform([news_0])\n",
    "#print(trans_words)\n",
    "#print(trans_words.shape)\n",
    "bow_transformer.get_feature_names()[44314]"
   ]
  },
  {
   "cell_type": "code",
   "execution_count": 203,
   "metadata": {},
   "outputs": [
    {
     "name": "stdout",
     "output_type": "stream",
     "text": [
      "sparsity: 0.42380272887570775\n"
     ]
    }
   ],
   "source": [
    "print('sparsity: {}'.format(sparsity))"
   ]
  },
  {
   "cell_type": "code",
   "execution_count": 204,
   "metadata": {
    "scrolled": true
   },
   "outputs": [
    {
     "name": "stdout",
     "output_type": "stream",
     "text": [
      "1330 571 1901\n"
     ]
    }
   ],
   "source": [
    "# creating train and test data:\n",
    "from sklearn.model_selection import train_test_split\n",
    "\n",
    "news_train, news_test, label_train, label_test = train_test_split(result['news'], result['label'], test_size=0.3)\n",
    "\n",
    "print(len(news_train), len(news_test), len(news_train) + len(news_test))"
   ]
  },
  {
   "cell_type": "code",
   "execution_count": 205,
   "metadata": {},
   "outputs": [],
   "source": [
    "# making a pipeline of the above procedure\n",
    "from sklearn.feature_extraction.text import TfidfTransformer\n",
    "from sklearn.naive_bayes import MultinomialNB\n",
    "from sklearn.pipeline import Pipeline\n",
    "\n",
    "pipeline = Pipeline([\n",
    "    ('bow', CountVectorizer(analyzer=identity)),  # strings to token integer counts\n",
    "    ('tfidf', TfidfTransformer()),  # integer counts to weighted TF-IDF scores\n",
    "    ('classifier', MultinomialNB()),  # train on TF-IDF vectors w/ Naive Bayes classifier\n",
    "])"
   ]
  },
  {
   "cell_type": "code",
   "execution_count": 209,
   "metadata": {},
   "outputs": [],
   "source": [
    "pipeline.fit(news_train,label_train)\n",
    "filename = 'Model.sav'\n",
    "pickle.dump(pipeline, open(filename, 'wb'))"
   ]
  },
  {
   "cell_type": "code",
   "execution_count": 210,
   "metadata": {},
   "outputs": [
    {
     "name": "stdout",
     "output_type": "stream",
     "text": [
      "[0 0 0 0 0 0 0 0 0 0]\n",
      "873     1\n",
      "189     0\n",
      "281     1\n",
      "170     1\n",
      "1564    0\n",
      "1728    0\n",
      "614     0\n",
      "8       0\n",
      "826     1\n",
      "980     1\n",
      "Name: label, dtype: int64\n"
     ]
    }
   ],
   "source": [
    "#checking the predictions\n",
    "predictions = pipeline.predict(news_test)\n",
    "print(predictions[0:10])\n",
    "print(label_test[0:10])"
   ]
  },
  {
   "cell_type": "code",
   "execution_count": 211,
   "metadata": {},
   "outputs": [
    {
     "name": "stdout",
     "output_type": "stream",
     "text": [
      "              precision    recall  f1-score   support\n",
      "\n",
      "           0       1.00      0.51      0.68       571\n",
      "           1       0.00      0.00      0.00         0\n",
      "\n",
      "    accuracy                           0.51       571\n",
      "   macro avg       0.50      0.25      0.34       571\n",
      "weighted avg       1.00      0.51      0.68       571\n",
      "\n"
     ]
    },
    {
     "name": "stderr",
     "output_type": "stream",
     "text": [
      "/home/vasanth/anaconda3/envs/DS/lib/python3.6/site-packages/sklearn/metrics/_classification.py:1221: UndefinedMetricWarning: Recall and F-score are ill-defined and being set to 0.0 in labels with no true samples. Use `zero_division` parameter to control this behavior.\n",
      "  _warn_prf(average, modifier, msg_start, len(result))\n"
     ]
    }
   ],
   "source": [
    "# checking the classification report\n",
    "from sklearn.metrics import classification_report\n",
    "print(classification_report(predictions,label_test))"
   ]
  }
 ],
 "metadata": {
  "kernelspec": {
   "display_name": "Python 3",
   "language": "python",
   "name": "python3"
  },
  "language_info": {
   "codemirror_mode": {
    "name": "ipython",
    "version": 3
   },
   "file_extension": ".py",
   "mimetype": "text/x-python",
   "name": "python",
   "nbconvert_exporter": "python",
   "pygments_lexer": "ipython3",
   "version": "3.6.11"
  }
 },
 "nbformat": 4,
 "nbformat_minor": 4
}
